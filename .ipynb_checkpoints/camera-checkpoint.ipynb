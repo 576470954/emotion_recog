{
 "cells": [
  {
   "cell_type": "code",
   "execution_count": 1,
   "id": "9b348cb9",
   "metadata": {},
   "outputs": [],
   "source": [
    "import cv2\n",
    "import time\n"
   ]
  },
  {
   "cell_type": "code",
   "execution_count": 2,
   "id": "5d87b346",
   "metadata": {},
   "outputs": [
    {
     "name": "stdout",
     "output_type": "stream",
     "text": [
      "env: CUDA_VISIBLE_DEVICES=0\n"
     ]
    }
   ],
   "source": [
    "%env CUDA_VISIBLE_DEVICES=0\n",
    "import os\n",
    "import numpy as np\n",
    "import matplotlib.pyplot as plt\n",
    "import cv2\n",
    "from PIL import Image\n",
    "import torch\n",
    "\n",
    "%matplotlib inline\n",
    "\n"
   ]
  },
  {
   "cell_type": "code",
   "execution_count": 3,
   "id": "c58453f0",
   "metadata": {},
   "outputs": [
    {
     "name": "stdout",
     "output_type": "stream",
     "text": [
      "False\n"
     ]
    }
   ],
   "source": [
    "use_cuda = torch.cuda.is_available()\n",
    "device = 'cuda' if use_cuda else 'cpu'\n",
    "\n",
    "#Do not forget to run pip install facenet-pytorch\n",
    "from facenet_pytorch import MTCNN\n",
    "mtcnn = MTCNN(keep_all=False, post_process=False, min_face_size=40, device=device)\n",
    "\n",
    "def detect_face(frame):\n",
    "    bounding_boxes, probs = mtcnn.detect(frame, landmarks=False)\n",
    "    bounding_boxes=bounding_boxes[probs>0.9]\n",
    "    return bounding_boxes\n",
    "\n",
    "print(use_cuda)"
   ]
  },
  {
   "cell_type": "code",
   "execution_count": 4,
   "id": "31c84125",
   "metadata": {},
   "outputs": [
    {
     "name": "stdout",
     "output_type": "stream",
     "text": [
      "D:\\Users\\z.zhang8\\.hsemotion\\enet_b0_8_best_afew.pt Compose(\n",
      "    Resize(size=(224, 224), interpolation=bilinear, max_size=None, antialias=None)\n",
      "    ToTensor()\n",
      "    Normalize(mean=[0.485, 0.456, 0.406], std=[0.229, 0.224, 0.225])\n",
      ")\n"
     ]
    }
   ],
   "source": [
    "from hsemotion.facial_emotions import HSEmotionRecognizer\n",
    "model_name='enet_b0_8_best_afew'\n",
    "#model_name='enet_b0_8_best_vgaf'\n",
    "#model_name='enet_b0_8_va_mtl'\n",
    "#model_name='enet_b2_8'\n",
    "\n",
    "fer=HSEmotionRecognizer(model_name=model_name,device=device)"
   ]
  },
  {
   "cell_type": "code",
   "execution_count": 10,
   "id": "f3f0955e",
   "metadata": {},
   "outputs": [
    {
     "name": "stdout",
     "output_type": "stream",
     "text": [
      " Anger, Contempt, Disgust, Fear, Happiness, Neutral, Sadness, Surprise\n"
     ]
    }
   ],
   "source": [
    "# 打开摄像头\n",
    "cap = cv2.VideoCapture(0)\n",
    "# 设置摄像头参数（可选）\n",
    "cap.set(cv2.CAP_PROP_FPS, 30)  # 帧率为 30 帧/秒\n",
    "\n",
    "print(\" Anger, Contempt, Disgust, Fear, Happiness, Neutral, Sadness, Surprise\")\n",
    "para = (-5, -1, -1, -3, 10, 0, -1, 3)\n",
    "\n",
    "while True:\n",
    "    # 读取摄像头图像\n",
    "    ret, frame = cap.read()\n",
    "\n",
    "    # 等待 1 秒\n",
    "    time.sleep(1)\n",
    "    bounding_boxes=detect_face(frame)\n",
    "    for bbox in bounding_boxes:\n",
    "        box = bbox.astype(int)\n",
    "        x1,y1,x2,y2=box[0:4]    \n",
    "        face_img=frame[y1:y2,x1:x2,:]\n",
    "        emotion,scores=fer.predict_emotions(face_img,logits=True)\n",
    "        #print(emotion,scores)\n",
    "        # 绘制人脸识别框\n",
    "        start_point = (x1, y1)\n",
    "        end_point = (x2, y2)\n",
    "        color = (0, 255, 0)  # 绿色\n",
    "        thickness = 2\n",
    "        cv2.rectangle(frame, start_point, end_point, color, thickness)\n",
    "        # 计算和绘制分数\n",
    "        one_score = np.dot(np.array(scores), np.array(para))\n",
    "        text = emotion + str(one_score)\n",
    "        org = (100, 100)\n",
    "        font = cv2.FONT_HERSHEY_SIMPLEX\n",
    "        fontScale = 1.0\n",
    "        color = (0, 0, 255)  # 红色\n",
    "        thickness = 2\n",
    "        cv2.putText(frame, text, org, font, fontScale, color, thickness)\n",
    "        \n",
    "    \n",
    "    # 显示图像\n",
    "    cv2.imshow('frame', frame)\n",
    "\n",
    "    # 检测是否按下了 q 键，如果是则退出循环\n",
    "    if cv2.waitKey(1) & 0xFF == ord('q'):\n",
    "        break\n",
    "\n",
    "# 释放资源\n",
    "cap.release()\n",
    "cv2.destroyAllWindows()"
   ]
  },
  {
   "cell_type": "code",
   "execution_count": null,
   "id": "17c6ad64",
   "metadata": {},
   "outputs": [],
   "source": []
  }
 ],
 "metadata": {
  "kernelspec": {
   "display_name": "Python 3 (ipykernel)",
   "language": "python",
   "name": "python3"
  },
  "language_info": {
   "codemirror_mode": {
    "name": "ipython",
    "version": 3
   },
   "file_extension": ".py",
   "mimetype": "text/x-python",
   "name": "python",
   "nbconvert_exporter": "python",
   "pygments_lexer": "ipython3",
   "version": "3.7.9"
  }
 },
 "nbformat": 4,
 "nbformat_minor": 5
}
